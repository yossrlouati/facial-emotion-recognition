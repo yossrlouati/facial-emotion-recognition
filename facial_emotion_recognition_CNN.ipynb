{
  "cells": [
    {
      "cell_type": "markdown",
      "metadata": {
        "id": "view-in-github",
        "colab_type": "text"
      },
      "source": [
        "<a href=\"https://colab.research.google.com/github/yossrlouati/facial-emotion-recognition/blob/main/facial_emotion_recognition_CNN.ipynb\" target=\"_parent\"><img src=\"https://colab.research.google.com/assets/colab-badge.svg\" alt=\"Open In Colab\"/></a>"
      ]
    },
    {
      "cell_type": "markdown",
      "source": [
        "# **Importing Data/libriaries**"
      ],
      "metadata": {
        "id": "PxUJInFk3f0w"
      }
    },
    {
      "cell_type": "code",
      "source": [
        "!pip install kaggle"
      ],
      "metadata": {
        "colab": {
          "base_uri": "https://localhost:8080/"
        },
        "id": "1Wxa33FeSdvj",
        "outputId": "c358049c-3f21-40b6-e660-3bc7071aa1e1"
      },
      "execution_count": null,
      "outputs": [
        {
          "output_type": "stream",
          "name": "stdout",
          "text": [
            "Looking in indexes: https://pypi.org/simple, https://us-python.pkg.dev/colab-wheels/public/simple/\n",
            "Requirement already satisfied: kaggle in /usr/local/lib/python3.8/dist-packages (1.5.12)\n",
            "Requirement already satisfied: certifi in /usr/local/lib/python3.8/dist-packages (from kaggle) (2022.12.7)\n",
            "Requirement already satisfied: python-dateutil in /usr/local/lib/python3.8/dist-packages (from kaggle) (2.8.2)\n",
            "Requirement already satisfied: tqdm in /usr/local/lib/python3.8/dist-packages (from kaggle) (4.64.1)\n",
            "Requirement already satisfied: requests in /usr/local/lib/python3.8/dist-packages (from kaggle) (2.25.1)\n",
            "Requirement already satisfied: python-slugify in /usr/local/lib/python3.8/dist-packages (from kaggle) (7.0.0)\n",
            "Requirement already satisfied: six>=1.10 in /usr/local/lib/python3.8/dist-packages (from kaggle) (1.15.0)\n",
            "Requirement already satisfied: urllib3 in /usr/local/lib/python3.8/dist-packages (from kaggle) (1.24.3)\n",
            "Requirement already satisfied: text-unidecode>=1.3 in /usr/local/lib/python3.8/dist-packages (from python-slugify->kaggle) (1.3)\n",
            "Requirement already satisfied: chardet<5,>=3.0.2 in /usr/local/lib/python3.8/dist-packages (from requests->kaggle) (4.0.0)\n",
            "Requirement already satisfied: idna<3,>=2.5 in /usr/local/lib/python3.8/dist-packages (from requests->kaggle) (2.10)\n"
          ]
        }
      ]
    },
    {
      "cell_type": "code",
      "source": [
        "! cp kaggle.json ~/.kaggle/"
      ],
      "metadata": {
        "id": "5MF8dycuSgR5"
      },
      "execution_count": null,
      "outputs": []
    },
    {
      "cell_type": "code",
      "source": [
        "! chmod 600 ~/.kaggle/kaggle.json"
      ],
      "metadata": {
        "id": "kZBGKHDoS-wl"
      },
      "execution_count": null,
      "outputs": []
    },
    {
      "cell_type": "code",
      "source": [
        "! kaggle competitions download  -c challenges-in-representation-learning-facial-expression-recognition-challenge"
      ],
      "metadata": {
        "colab": {
          "base_uri": "https://localhost:8080/"
        },
        "id": "qnLkJsCdTSFX",
        "outputId": "255f6402-7532-4b45-b382-bb2381bd261b"
      },
      "execution_count": null,
      "outputs": [
        {
          "output_type": "stream",
          "name": "stdout",
          "text": [
            "Downloading challenges-in-representation-learning-facial-expression-recognition-challenge.zip to /content\n",
            "100% 284M/285M [00:14<00:00, 21.6MB/s]\n",
            "100% 285M/285M [00:14<00:00, 21.3MB/s]\n"
          ]
        }
      ]
    },
    {
      "cell_type": "code",
      "source": [
        "! unzip challenges-in-representation-learning-facial-expression-recognition-challenge.zip"
      ],
      "metadata": {
        "id": "TdT0l6fWUVAN",
        "outputId": "94adfde9-3fd4-464b-eaa6-62b07cb161f6",
        "colab": {
          "base_uri": "https://localhost:8080/"
        }
      },
      "execution_count": null,
      "outputs": [
        {
          "output_type": "stream",
          "name": "stdout",
          "text": [
            "Archive:  challenges-in-representation-learning-facial-expression-recognition-challenge.zip\n",
            "  inflating: example_submission.csv  \n",
            "  inflating: fer2013.tar.gz          \n",
            "  inflating: icml_face_data.csv      \n",
            "  inflating: test.csv                \n",
            "  inflating: train.csv               \n"
          ]
        }
      ]
    },
    {
      "cell_type": "code",
      "source": [
        "!pip install scikit-plot"
      ],
      "metadata": {
        "colab": {
          "base_uri": "https://localhost:8080/"
        },
        "id": "KH1wRL5p3kjQ",
        "outputId": "779cebe8-8bf5-4089-be19-6053e1018c52"
      },
      "execution_count": null,
      "outputs": [
        {
          "output_type": "stream",
          "name": "stdout",
          "text": [
            "Looking in indexes: https://pypi.org/simple, https://us-python.pkg.dev/colab-wheels/public/simple/\n",
            "Requirement already satisfied: scikit-plot in /usr/local/lib/python3.8/dist-packages (0.3.7)\n",
            "Requirement already satisfied: scikit-learn>=0.18 in /usr/local/lib/python3.8/dist-packages (from scikit-plot) (1.0.2)\n",
            "Requirement already satisfied: joblib>=0.10 in /usr/local/lib/python3.8/dist-packages (from scikit-plot) (1.2.0)\n",
            "Requirement already satisfied: matplotlib>=1.4.0 in /usr/local/lib/python3.8/dist-packages (from scikit-plot) (3.2.2)\n",
            "Requirement already satisfied: scipy>=0.9 in /usr/local/lib/python3.8/dist-packages (from scikit-plot) (1.7.3)\n",
            "Requirement already satisfied: kiwisolver>=1.0.1 in /usr/local/lib/python3.8/dist-packages (from matplotlib>=1.4.0->scikit-plot) (1.4.4)\n",
            "Requirement already satisfied: python-dateutil>=2.1 in /usr/local/lib/python3.8/dist-packages (from matplotlib>=1.4.0->scikit-plot) (2.8.2)\n",
            "Requirement already satisfied: cycler>=0.10 in /usr/local/lib/python3.8/dist-packages (from matplotlib>=1.4.0->scikit-plot) (0.11.0)\n",
            "Requirement already satisfied: pyparsing!=2.0.4,!=2.1.2,!=2.1.6,>=2.0.1 in /usr/local/lib/python3.8/dist-packages (from matplotlib>=1.4.0->scikit-plot) (3.0.9)\n",
            "Requirement already satisfied: numpy>=1.11 in /usr/local/lib/python3.8/dist-packages (from matplotlib>=1.4.0->scikit-plot) (1.21.6)\n",
            "Requirement already satisfied: threadpoolctl>=2.0.0 in /usr/local/lib/python3.8/dist-packages (from scikit-learn>=0.18->scikit-plot) (3.1.0)\n",
            "Requirement already satisfied: six>=1.5 in /usr/local/lib/python3.8/dist-packages (from python-dateutil>=2.1->matplotlib>=1.4.0->scikit-plot) (1.15.0)\n"
          ]
        }
      ]
    },
    {
      "cell_type": "code",
      "source": [
        "import pandas as pd\n",
        "import numpy as np\n",
        "import scikitplot\n",
        "import random\n",
        "import seaborn as sns\n",
        "import keras\n",
        "import os\n",
        "from matplotlib import pyplot\n",
        "import matplotlib.pyplot as plt\n",
        "import tensorflow as tf\n",
        "from tensorflow.keras.utils import to_categorical\n",
        "import warnings\n",
        "from tensorflow.keras.models import Sequential\n",
        "from keras.callbacks import EarlyStopping\n",
        "from keras import regularizers\n",
        "from keras.callbacks import ModelCheckpoint,EarlyStopping\n",
        "from tensorflow.keras.optimizers import Adam,RMSprop,SGD,Adamax\n",
        "from keras.preprocessing.image import ImageDataGenerator \n",
        "from keras.utils.vis_utils import plot_model\n",
        "from keras.layers import Conv2D, MaxPool2D, Flatten,Dense,Dropout,BatchNormalization,MaxPooling2D,Activation,Input\n",
        "from sklearn.model_selection import train_test_split\n",
        "from sklearn.preprocessing import StandardScaler\n",
        "warnings.simplefilter(\"ignore\")\n",
        "from keras.models import Model\n",
        "from sklearn.model_selection import train_test_split\n",
        "from sklearn.metrics import accuracy_score\n",
        "from keras.regularizers import l1, l2\n",
        "import plotly.express as px\n",
        "from matplotlib import pyplot as plt\n",
        "from sklearn.metrics import confusion_matrix\n",
        "from sklearn.metrics import classification_report"
      ],
      "metadata": {
        "id": "4_wolWLw3wBW"
      },
      "execution_count": null,
      "outputs": []
    },
    {
      "cell_type": "markdown",
      "source": [
        "2 Loding data "
      ],
      "metadata": {
        "id": "f3VGnY9U4LKr"
      }
    },
    {
      "cell_type": "code",
      "source": [
        "!tar --gunzip --extract --verbose --file=fer2013.tar.gz"
      ],
      "metadata": {
        "colab": {
          "base_uri": "https://localhost:8080/"
        },
        "id": "qvkSqV9Pol-1",
        "outputId": "73cf16ce-4604-42ad-dc85-e5353aa88d66"
      },
      "execution_count": null,
      "outputs": [
        {
          "output_type": "stream",
          "name": "stdout",
          "text": [
            "fer2013/fer2013.csv\n",
            "fer2013/README\n",
            "fer2013/fer2013.bib\n",
            "fer2013/\n"
          ]
        }
      ]
    },
    {
      "cell_type": "code",
      "source": [
        "data = pd.read_csv(\"fer2013/fer2013.csv\")\n",
        "data.shape"
      ],
      "metadata": {
        "id": "U_Bm3LE34R3j",
        "colab": {
          "base_uri": "https://localhost:8080/"
        },
        "outputId": "5990b4b3-cbd2-4284-d8ca-ac84fd081a4e"
      },
      "execution_count": null,
      "outputs": [
        {
          "output_type": "execute_result",
          "data": {
            "text/plain": [
              "(35887, 3)"
            ]
          },
          "metadata": {},
          "execution_count": 22
        }
      ]
    },
    {
      "cell_type": "code",
      "source": [
        "data.isnull().sum()"
      ],
      "metadata": {
        "id": "VgGnke5g4SzX",
        "colab": {
          "base_uri": "https://localhost:8080/"
        },
        "outputId": "536613b9-768b-44a2-b5c2-0ead3465a6c4"
      },
      "execution_count": null,
      "outputs": [
        {
          "output_type": "execute_result",
          "data": {
            "text/plain": [
              "emotion    0\n",
              "pixels     0\n",
              "Usage      0\n",
              "dtype: int64"
            ]
          },
          "metadata": {},
          "execution_count": 23
        }
      ]
    },
    {
      "cell_type": "code",
      "source": [
        "data.head()"
      ],
      "metadata": {
        "id": "idnZI_An4Wds",
        "colab": {
          "base_uri": "https://localhost:8080/",
          "height": 206
        },
        "outputId": "b8c20bec-4661-46e7-fb2e-c23ce6d406df"
      },
      "execution_count": null,
      "outputs": [
        {
          "output_type": "execute_result",
          "data": {
            "text/plain": [
              "   emotion                                             pixels     Usage\n",
              "0        0  70 80 82 72 58 58 60 63 54 58 60 48 89 115 121...  Training\n",
              "1        0  151 150 147 155 148 133 111 140 170 174 182 15...  Training\n",
              "2        2  231 212 156 164 174 138 161 173 182 200 106 38...  Training\n",
              "3        4  24 32 36 30 32 23 19 20 30 41 21 22 32 34 21 1...  Training\n",
              "4        6  4 0 0 0 0 0 0 0 0 0 0 0 3 15 23 28 48 50 58 84...  Training"
            ],
            "text/html": [
              "\n",
              "  <div id=\"df-f8b4d0b0-d8a2-4b23-99b7-3a25c73dc2d7\">\n",
              "    <div class=\"colab-df-container\">\n",
              "      <div>\n",
              "<style scoped>\n",
              "    .dataframe tbody tr th:only-of-type {\n",
              "        vertical-align: middle;\n",
              "    }\n",
              "\n",
              "    .dataframe tbody tr th {\n",
              "        vertical-align: top;\n",
              "    }\n",
              "\n",
              "    .dataframe thead th {\n",
              "        text-align: right;\n",
              "    }\n",
              "</style>\n",
              "<table border=\"1\" class=\"dataframe\">\n",
              "  <thead>\n",
              "    <tr style=\"text-align: right;\">\n",
              "      <th></th>\n",
              "      <th>emotion</th>\n",
              "      <th>pixels</th>\n",
              "      <th>Usage</th>\n",
              "    </tr>\n",
              "  </thead>\n",
              "  <tbody>\n",
              "    <tr>\n",
              "      <th>0</th>\n",
              "      <td>0</td>\n",
              "      <td>70 80 82 72 58 58 60 63 54 58 60 48 89 115 121...</td>\n",
              "      <td>Training</td>\n",
              "    </tr>\n",
              "    <tr>\n",
              "      <th>1</th>\n",
              "      <td>0</td>\n",
              "      <td>151 150 147 155 148 133 111 140 170 174 182 15...</td>\n",
              "      <td>Training</td>\n",
              "    </tr>\n",
              "    <tr>\n",
              "      <th>2</th>\n",
              "      <td>2</td>\n",
              "      <td>231 212 156 164 174 138 161 173 182 200 106 38...</td>\n",
              "      <td>Training</td>\n",
              "    </tr>\n",
              "    <tr>\n",
              "      <th>3</th>\n",
              "      <td>4</td>\n",
              "      <td>24 32 36 30 32 23 19 20 30 41 21 22 32 34 21 1...</td>\n",
              "      <td>Training</td>\n",
              "    </tr>\n",
              "    <tr>\n",
              "      <th>4</th>\n",
              "      <td>6</td>\n",
              "      <td>4 0 0 0 0 0 0 0 0 0 0 0 3 15 23 28 48 50 58 84...</td>\n",
              "      <td>Training</td>\n",
              "    </tr>\n",
              "  </tbody>\n",
              "</table>\n",
              "</div>\n",
              "      <button class=\"colab-df-convert\" onclick=\"convertToInteractive('df-f8b4d0b0-d8a2-4b23-99b7-3a25c73dc2d7')\"\n",
              "              title=\"Convert this dataframe to an interactive table.\"\n",
              "              style=\"display:none;\">\n",
              "        \n",
              "  <svg xmlns=\"http://www.w3.org/2000/svg\" height=\"24px\"viewBox=\"0 0 24 24\"\n",
              "       width=\"24px\">\n",
              "    <path d=\"M0 0h24v24H0V0z\" fill=\"none\"/>\n",
              "    <path d=\"M18.56 5.44l.94 2.06.94-2.06 2.06-.94-2.06-.94-.94-2.06-.94 2.06-2.06.94zm-11 1L8.5 8.5l.94-2.06 2.06-.94-2.06-.94L8.5 2.5l-.94 2.06-2.06.94zm10 10l.94 2.06.94-2.06 2.06-.94-2.06-.94-.94-2.06-.94 2.06-2.06.94z\"/><path d=\"M17.41 7.96l-1.37-1.37c-.4-.4-.92-.59-1.43-.59-.52 0-1.04.2-1.43.59L10.3 9.45l-7.72 7.72c-.78.78-.78 2.05 0 2.83L4 21.41c.39.39.9.59 1.41.59.51 0 1.02-.2 1.41-.59l7.78-7.78 2.81-2.81c.8-.78.8-2.07 0-2.86zM5.41 20L4 18.59l7.72-7.72 1.47 1.35L5.41 20z\"/>\n",
              "  </svg>\n",
              "      </button>\n",
              "      \n",
              "  <style>\n",
              "    .colab-df-container {\n",
              "      display:flex;\n",
              "      flex-wrap:wrap;\n",
              "      gap: 12px;\n",
              "    }\n",
              "\n",
              "    .colab-df-convert {\n",
              "      background-color: #E8F0FE;\n",
              "      border: none;\n",
              "      border-radius: 50%;\n",
              "      cursor: pointer;\n",
              "      display: none;\n",
              "      fill: #1967D2;\n",
              "      height: 32px;\n",
              "      padding: 0 0 0 0;\n",
              "      width: 32px;\n",
              "    }\n",
              "\n",
              "    .colab-df-convert:hover {\n",
              "      background-color: #E2EBFA;\n",
              "      box-shadow: 0px 1px 2px rgba(60, 64, 67, 0.3), 0px 1px 3px 1px rgba(60, 64, 67, 0.15);\n",
              "      fill: #174EA6;\n",
              "    }\n",
              "\n",
              "    [theme=dark] .colab-df-convert {\n",
              "      background-color: #3B4455;\n",
              "      fill: #D2E3FC;\n",
              "    }\n",
              "\n",
              "    [theme=dark] .colab-df-convert:hover {\n",
              "      background-color: #434B5C;\n",
              "      box-shadow: 0px 1px 3px 1px rgba(0, 0, 0, 0.15);\n",
              "      filter: drop-shadow(0px 1px 2px rgba(0, 0, 0, 0.3));\n",
              "      fill: #FFFFFF;\n",
              "    }\n",
              "  </style>\n",
              "\n",
              "      <script>\n",
              "        const buttonEl =\n",
              "          document.querySelector('#df-f8b4d0b0-d8a2-4b23-99b7-3a25c73dc2d7 button.colab-df-convert');\n",
              "        buttonEl.style.display =\n",
              "          google.colab.kernel.accessAllowed ? 'block' : 'none';\n",
              "\n",
              "        async function convertToInteractive(key) {\n",
              "          const element = document.querySelector('#df-f8b4d0b0-d8a2-4b23-99b7-3a25c73dc2d7');\n",
              "          const dataTable =\n",
              "            await google.colab.kernel.invokeFunction('convertToInteractive',\n",
              "                                                     [key], {});\n",
              "          if (!dataTable) return;\n",
              "\n",
              "          const docLinkHtml = 'Like what you see? Visit the ' +\n",
              "            '<a target=\"_blank\" href=https://colab.research.google.com/notebooks/data_table.ipynb>data table notebook</a>'\n",
              "            + ' to learn more about interactive tables.';\n",
              "          element.innerHTML = '';\n",
              "          dataTable['output_type'] = 'display_data';\n",
              "          await google.colab.output.renderOutput(dataTable, element);\n",
              "          const docLink = document.createElement('div');\n",
              "          docLink.innerHTML = docLinkHtml;\n",
              "          element.appendChild(docLink);\n",
              "        }\n",
              "      </script>\n",
              "    </div>\n",
              "  </div>\n",
              "  "
            ]
          },
          "metadata": {},
          "execution_count": 24
        }
      ]
    },
    {
      "cell_type": "code",
      "source": [
        "CLASS_LABELS  = ['Anger', 'Disgust', 'Fear', 'Happy', 'Neutral', 'Sadness', \"Surprise\"]\n",
        "fig = px.bar(x = CLASS_LABELS,\n",
        "             y = [list(data['emotion']).count(i) for i in np.unique(data['emotion'])] , \n",
        "             color = np.unique(data['emotion']) ,\n",
        "             color_continuous_scale=\"Emrld\") \n",
        "fig.update_xaxes(title=\"Emotions\")\n",
        "fig.update_yaxes(title = \"Number of Images\")\n",
        "fig.update_layout(showlegend = True,\n",
        "    title = {\n",
        "        'text': 'Train Data Distribution ',\n",
        "        'y':0.95,\n",
        "        'x':0.5,\n",
        "        'xanchor': 'center',\n",
        "        'yanchor': 'top'})\n",
        "fig.show()"
      ],
      "metadata": {
        "id": "IZNKEVZM4bKB",
        "colab": {
          "base_uri": "https://localhost:8080/",
          "height": 542
        },
        "outputId": "44a3d7b0-0291-410c-9c92-607f7031837c"
      },
      "execution_count": null,
      "outputs": [
        {
          "output_type": "display_data",
          "data": {
            "text/html": [
              "<html>\n",
              "<head><meta charset=\"utf-8\" /></head>\n",
              "<body>\n",
              "    <div>            <script src=\"https://cdnjs.cloudflare.com/ajax/libs/mathjax/2.7.5/MathJax.js?config=TeX-AMS-MML_SVG\"></script><script type=\"text/javascript\">if (window.MathJax) {MathJax.Hub.Config({SVG: {font: \"STIX-Web\"}});}</script>                <script type=\"text/javascript\">window.PlotlyConfig = {MathJaxConfig: 'local'};</script>\n",
              "        <script src=\"https://cdn.plot.ly/plotly-2.8.3.min.js\"></script>                <div id=\"ba7b343f-0796-4b2a-b8e2-0bce77c89eff\" class=\"plotly-graph-div\" style=\"height:525px; width:100%;\"></div>            <script type=\"text/javascript\">                                    window.PLOTLYENV=window.PLOTLYENV || {};                                    if (document.getElementById(\"ba7b343f-0796-4b2a-b8e2-0bce77c89eff\")) {                    Plotly.newPlot(                        \"ba7b343f-0796-4b2a-b8e2-0bce77c89eff\",                        [{\"alignmentgroup\":\"True\",\"hovertemplate\":\"x=%{x}<br>y=%{y}<br>color=%{marker.color}<extra></extra>\",\"legendgroup\":\"\",\"marker\":{\"color\":[0,1,2,3,4,5,6],\"coloraxis\":\"coloraxis\",\"pattern\":{\"shape\":\"\"}},\"name\":\"\",\"offsetgroup\":\"\",\"orientation\":\"v\",\"showlegend\":false,\"textposition\":\"auto\",\"x\":[\"Anger\",\"Disgust\",\"Fear\",\"Happy\",\"Neutral\",\"Sadness\",\"Surprise\"],\"xaxis\":\"x\",\"y\":[4953,547,5121,8989,6077,4002,6198],\"yaxis\":\"y\",\"type\":\"bar\"}],                        {\"template\":{\"data\":{\"bar\":[{\"error_x\":{\"color\":\"#2a3f5f\"},\"error_y\":{\"color\":\"#2a3f5f\"},\"marker\":{\"line\":{\"color\":\"#E5ECF6\",\"width\":0.5},\"pattern\":{\"fillmode\":\"overlay\",\"size\":10,\"solidity\":0.2}},\"type\":\"bar\"}],\"barpolar\":[{\"marker\":{\"line\":{\"color\":\"#E5ECF6\",\"width\":0.5},\"pattern\":{\"fillmode\":\"overlay\",\"size\":10,\"solidity\":0.2}},\"type\":\"barpolar\"}],\"carpet\":[{\"aaxis\":{\"endlinecolor\":\"#2a3f5f\",\"gridcolor\":\"white\",\"linecolor\":\"white\",\"minorgridcolor\":\"white\",\"startlinecolor\":\"#2a3f5f\"},\"baxis\":{\"endlinecolor\":\"#2a3f5f\",\"gridcolor\":\"white\",\"linecolor\":\"white\",\"minorgridcolor\":\"white\",\"startlinecolor\":\"#2a3f5f\"},\"type\":\"carpet\"}],\"choropleth\":[{\"colorbar\":{\"outlinewidth\":0,\"ticks\":\"\"},\"type\":\"choropleth\"}],\"contour\":[{\"colorbar\":{\"outlinewidth\":0,\"ticks\":\"\"},\"colorscale\":[[0.0,\"#0d0887\"],[0.1111111111111111,\"#46039f\"],[0.2222222222222222,\"#7201a8\"],[0.3333333333333333,\"#9c179e\"],[0.4444444444444444,\"#bd3786\"],[0.5555555555555556,\"#d8576b\"],[0.6666666666666666,\"#ed7953\"],[0.7777777777777778,\"#fb9f3a\"],[0.8888888888888888,\"#fdca26\"],[1.0,\"#f0f921\"]],\"type\":\"contour\"}],\"contourcarpet\":[{\"colorbar\":{\"outlinewidth\":0,\"ticks\":\"\"},\"type\":\"contourcarpet\"}],\"heatmap\":[{\"colorbar\":{\"outlinewidth\":0,\"ticks\":\"\"},\"colorscale\":[[0.0,\"#0d0887\"],[0.1111111111111111,\"#46039f\"],[0.2222222222222222,\"#7201a8\"],[0.3333333333333333,\"#9c179e\"],[0.4444444444444444,\"#bd3786\"],[0.5555555555555556,\"#d8576b\"],[0.6666666666666666,\"#ed7953\"],[0.7777777777777778,\"#fb9f3a\"],[0.8888888888888888,\"#fdca26\"],[1.0,\"#f0f921\"]],\"type\":\"heatmap\"}],\"heatmapgl\":[{\"colorbar\":{\"outlinewidth\":0,\"ticks\":\"\"},\"colorscale\":[[0.0,\"#0d0887\"],[0.1111111111111111,\"#46039f\"],[0.2222222222222222,\"#7201a8\"],[0.3333333333333333,\"#9c179e\"],[0.4444444444444444,\"#bd3786\"],[0.5555555555555556,\"#d8576b\"],[0.6666666666666666,\"#ed7953\"],[0.7777777777777778,\"#fb9f3a\"],[0.8888888888888888,\"#fdca26\"],[1.0,\"#f0f921\"]],\"type\":\"heatmapgl\"}],\"histogram\":[{\"marker\":{\"pattern\":{\"fillmode\":\"overlay\",\"size\":10,\"solidity\":0.2}},\"type\":\"histogram\"}],\"histogram2d\":[{\"colorbar\":{\"outlinewidth\":0,\"ticks\":\"\"},\"colorscale\":[[0.0,\"#0d0887\"],[0.1111111111111111,\"#46039f\"],[0.2222222222222222,\"#7201a8\"],[0.3333333333333333,\"#9c179e\"],[0.4444444444444444,\"#bd3786\"],[0.5555555555555556,\"#d8576b\"],[0.6666666666666666,\"#ed7953\"],[0.7777777777777778,\"#fb9f3a\"],[0.8888888888888888,\"#fdca26\"],[1.0,\"#f0f921\"]],\"type\":\"histogram2d\"}],\"histogram2dcontour\":[{\"colorbar\":{\"outlinewidth\":0,\"ticks\":\"\"},\"colorscale\":[[0.0,\"#0d0887\"],[0.1111111111111111,\"#46039f\"],[0.2222222222222222,\"#7201a8\"],[0.3333333333333333,\"#9c179e\"],[0.4444444444444444,\"#bd3786\"],[0.5555555555555556,\"#d8576b\"],[0.6666666666666666,\"#ed7953\"],[0.7777777777777778,\"#fb9f3a\"],[0.8888888888888888,\"#fdca26\"],[1.0,\"#f0f921\"]],\"type\":\"histogram2dcontour\"}],\"mesh3d\":[{\"colorbar\":{\"outlinewidth\":0,\"ticks\":\"\"},\"type\":\"mesh3d\"}],\"parcoords\":[{\"line\":{\"colorbar\":{\"outlinewidth\":0,\"ticks\":\"\"}},\"type\":\"parcoords\"}],\"pie\":[{\"automargin\":true,\"type\":\"pie\"}],\"scatter\":[{\"marker\":{\"colorbar\":{\"outlinewidth\":0,\"ticks\":\"\"}},\"type\":\"scatter\"}],\"scatter3d\":[{\"line\":{\"colorbar\":{\"outlinewidth\":0,\"ticks\":\"\"}},\"marker\":{\"colorbar\":{\"outlinewidth\":0,\"ticks\":\"\"}},\"type\":\"scatter3d\"}],\"scattercarpet\":[{\"marker\":{\"colorbar\":{\"outlinewidth\":0,\"ticks\":\"\"}},\"type\":\"scattercarpet\"}],\"scattergeo\":[{\"marker\":{\"colorbar\":{\"outlinewidth\":0,\"ticks\":\"\"}},\"type\":\"scattergeo\"}],\"scattergl\":[{\"marker\":{\"colorbar\":{\"outlinewidth\":0,\"ticks\":\"\"}},\"type\":\"scattergl\"}],\"scattermapbox\":[{\"marker\":{\"colorbar\":{\"outlinewidth\":0,\"ticks\":\"\"}},\"type\":\"scattermapbox\"}],\"scatterpolar\":[{\"marker\":{\"colorbar\":{\"outlinewidth\":0,\"ticks\":\"\"}},\"type\":\"scatterpolar\"}],\"scatterpolargl\":[{\"marker\":{\"colorbar\":{\"outlinewidth\":0,\"ticks\":\"\"}},\"type\":\"scatterpolargl\"}],\"scatterternary\":[{\"marker\":{\"colorbar\":{\"outlinewidth\":0,\"ticks\":\"\"}},\"type\":\"scatterternary\"}],\"surface\":[{\"colorbar\":{\"outlinewidth\":0,\"ticks\":\"\"},\"colorscale\":[[0.0,\"#0d0887\"],[0.1111111111111111,\"#46039f\"],[0.2222222222222222,\"#7201a8\"],[0.3333333333333333,\"#9c179e\"],[0.4444444444444444,\"#bd3786\"],[0.5555555555555556,\"#d8576b\"],[0.6666666666666666,\"#ed7953\"],[0.7777777777777778,\"#fb9f3a\"],[0.8888888888888888,\"#fdca26\"],[1.0,\"#f0f921\"]],\"type\":\"surface\"}],\"table\":[{\"cells\":{\"fill\":{\"color\":\"#EBF0F8\"},\"line\":{\"color\":\"white\"}},\"header\":{\"fill\":{\"color\":\"#C8D4E3\"},\"line\":{\"color\":\"white\"}},\"type\":\"table\"}]},\"layout\":{\"annotationdefaults\":{\"arrowcolor\":\"#2a3f5f\",\"arrowhead\":0,\"arrowwidth\":1},\"autotypenumbers\":\"strict\",\"coloraxis\":{\"colorbar\":{\"outlinewidth\":0,\"ticks\":\"\"}},\"colorscale\":{\"diverging\":[[0,\"#8e0152\"],[0.1,\"#c51b7d\"],[0.2,\"#de77ae\"],[0.3,\"#f1b6da\"],[0.4,\"#fde0ef\"],[0.5,\"#f7f7f7\"],[0.6,\"#e6f5d0\"],[0.7,\"#b8e186\"],[0.8,\"#7fbc41\"],[0.9,\"#4d9221\"],[1,\"#276419\"]],\"sequential\":[[0.0,\"#0d0887\"],[0.1111111111111111,\"#46039f\"],[0.2222222222222222,\"#7201a8\"],[0.3333333333333333,\"#9c179e\"],[0.4444444444444444,\"#bd3786\"],[0.5555555555555556,\"#d8576b\"],[0.6666666666666666,\"#ed7953\"],[0.7777777777777778,\"#fb9f3a\"],[0.8888888888888888,\"#fdca26\"],[1.0,\"#f0f921\"]],\"sequentialminus\":[[0.0,\"#0d0887\"],[0.1111111111111111,\"#46039f\"],[0.2222222222222222,\"#7201a8\"],[0.3333333333333333,\"#9c179e\"],[0.4444444444444444,\"#bd3786\"],[0.5555555555555556,\"#d8576b\"],[0.6666666666666666,\"#ed7953\"],[0.7777777777777778,\"#fb9f3a\"],[0.8888888888888888,\"#fdca26\"],[1.0,\"#f0f921\"]]},\"colorway\":[\"#636efa\",\"#EF553B\",\"#00cc96\",\"#ab63fa\",\"#FFA15A\",\"#19d3f3\",\"#FF6692\",\"#B6E880\",\"#FF97FF\",\"#FECB52\"],\"font\":{\"color\":\"#2a3f5f\"},\"geo\":{\"bgcolor\":\"white\",\"lakecolor\":\"white\",\"landcolor\":\"#E5ECF6\",\"showlakes\":true,\"showland\":true,\"subunitcolor\":\"white\"},\"hoverlabel\":{\"align\":\"left\"},\"hovermode\":\"closest\",\"mapbox\":{\"style\":\"light\"},\"paper_bgcolor\":\"white\",\"plot_bgcolor\":\"#E5ECF6\",\"polar\":{\"angularaxis\":{\"gridcolor\":\"white\",\"linecolor\":\"white\",\"ticks\":\"\"},\"bgcolor\":\"#E5ECF6\",\"radialaxis\":{\"gridcolor\":\"white\",\"linecolor\":\"white\",\"ticks\":\"\"}},\"scene\":{\"xaxis\":{\"backgroundcolor\":\"#E5ECF6\",\"gridcolor\":\"white\",\"gridwidth\":2,\"linecolor\":\"white\",\"showbackground\":true,\"ticks\":\"\",\"zerolinecolor\":\"white\"},\"yaxis\":{\"backgroundcolor\":\"#E5ECF6\",\"gridcolor\":\"white\",\"gridwidth\":2,\"linecolor\":\"white\",\"showbackground\":true,\"ticks\":\"\",\"zerolinecolor\":\"white\"},\"zaxis\":{\"backgroundcolor\":\"#E5ECF6\",\"gridcolor\":\"white\",\"gridwidth\":2,\"linecolor\":\"white\",\"showbackground\":true,\"ticks\":\"\",\"zerolinecolor\":\"white\"}},\"shapedefaults\":{\"line\":{\"color\":\"#2a3f5f\"}},\"ternary\":{\"aaxis\":{\"gridcolor\":\"white\",\"linecolor\":\"white\",\"ticks\":\"\"},\"baxis\":{\"gridcolor\":\"white\",\"linecolor\":\"white\",\"ticks\":\"\"},\"bgcolor\":\"#E5ECF6\",\"caxis\":{\"gridcolor\":\"white\",\"linecolor\":\"white\",\"ticks\":\"\"}},\"title\":{\"x\":0.05},\"xaxis\":{\"automargin\":true,\"gridcolor\":\"white\",\"linecolor\":\"white\",\"ticks\":\"\",\"title\":{\"standoff\":15},\"zerolinecolor\":\"white\",\"zerolinewidth\":2},\"yaxis\":{\"automargin\":true,\"gridcolor\":\"white\",\"linecolor\":\"white\",\"ticks\":\"\",\"title\":{\"standoff\":15},\"zerolinecolor\":\"white\",\"zerolinewidth\":2}}},\"xaxis\":{\"anchor\":\"y\",\"domain\":[0.0,1.0],\"title\":{\"text\":\"Emotions\"}},\"yaxis\":{\"anchor\":\"x\",\"domain\":[0.0,1.0],\"title\":{\"text\":\"Number of Images\"}},\"coloraxis\":{\"colorbar\":{\"title\":{\"text\":\"color\"}},\"colorscale\":[[0.0,\"rgb(211, 242, 163)\"],[0.16666666666666666,\"rgb(151, 225, 150)\"],[0.3333333333333333,\"rgb(108, 192, 139)\"],[0.5,\"rgb(76, 155, 130)\"],[0.6666666666666666,\"rgb(33, 122, 121)\"],[0.8333333333333334,\"rgb(16, 89, 101)\"],[1.0,\"rgb(7, 64, 80)\"]]},\"legend\":{\"tracegroupgap\":0},\"margin\":{\"t\":60},\"barmode\":\"relative\",\"title\":{\"text\":\"Train Data Distribution \",\"y\":0.95,\"x\":0.5,\"xanchor\":\"center\",\"yanchor\":\"top\"},\"showlegend\":true},                        {\"responsive\": true}                    ).then(function(){\n",
              "                            \n",
              "var gd = document.getElementById('ba7b343f-0796-4b2a-b8e2-0bce77c89eff');\n",
              "var x = new MutationObserver(function (mutations, observer) {{\n",
              "        var display = window.getComputedStyle(gd).display;\n",
              "        if (!display || display === 'none') {{\n",
              "            console.log([gd, 'removed!']);\n",
              "            Plotly.purge(gd);\n",
              "            observer.disconnect();\n",
              "        }}\n",
              "}});\n",
              "\n",
              "// Listen for the removal of the full notebook cells\n",
              "var notebookContainer = gd.closest('#notebook-container');\n",
              "if (notebookContainer) {{\n",
              "    x.observe(notebookContainer, {childList: true});\n",
              "}}\n",
              "\n",
              "// Listen for the clearing of the current output cell\n",
              "var outputEl = gd.closest('.output');\n",
              "if (outputEl) {{\n",
              "    x.observe(outputEl, {childList: true});\n",
              "}}\n",
              "\n",
              "                        })                };                            </script>        </div>\n",
              "</body>\n",
              "</html>"
            ]
          },
          "metadata": {}
        }
      ]
    },
    {
      "cell_type": "code",
      "source": [
        "#Showing examples of the images we have in our dataset\n",
        "h, w = 10, 10        \n",
        "nrows, ncols = 1, 8  # array of sub-plots\n",
        "figsize = [20, 30]     # figure size, inches\n",
        "\n",
        "\n",
        "# create figure (fig), and array of axes (ax)\n",
        "fig, ax = plt.subplots(nrows=nrows, ncols=ncols, figsize=figsize)\n",
        "\n",
        "# plot simple raster image on each sub-plot\n",
        "for i, axi in enumerate(ax.flat):\n",
        "    # i runs from 0 to (nrows*ncols-1)\n",
        "    # axi is equivalent with ax[rowid][colid]\n",
        "    img = np.mat(data.pixels[i]).reshape(48, 48) \n",
        "    axi.imshow(img)\n",
        "    # get indices of row/column\n",
        "    rowid = i // ncols\n",
        "    colid = i % ncols\n",
        "    axi.set_title(CLASS_LABELS[data.emotion[i]])\n",
        "\n",
        "plt.tight_layout(True)\n",
        "plt.show()"
      ],
      "metadata": {
        "colab": {
          "base_uri": "https://localhost:8080/",
          "height": 169
        },
        "id": "6JBdvVqHVfFW",
        "outputId": "29f21011-0dec-4a32-efea-8b0d453bdd31"
      },
      "execution_count": null,
      "outputs": [
        {
          "output_type": "display_data",
          "data": {
            "text/plain": [
              "<Figure size 1440x2160 with 8 Axes>"
            ],
            "image/png": "[encoded data removed]"
          },
          "metadata": {
            "needs_background": "light"
          }
        }
      ]
    },
    {
      "cell_type": "markdown",
      "source": [
        "# **Data preprocessing**"
      ],
      "metadata": {
        "id": "JD3zHLc5VjVw"
      }
    },
    {
      "cell_type": "code",
      "source": [
        "#Shuffling the data\n",
        "data = data.sample(frac=1)"
      ],
      "metadata": {
        "id": "ZrgTadYR5vpp"
      },
      "execution_count": null,
      "outputs": []
    },
    {
      "cell_type": "code",
      "source": [
        "#one hot encoding\n",
        "labels = to_categorical(data[['emotion']], num_classes=7)"
      ],
      "metadata": {
        "id": "nXK9DI7S56DV"
      },
      "execution_count": null,
      "outputs": []
    },
    {
      "cell_type": "code",
      "source": [
        "train_pixels = data[\"pixels\"].astype(str).str.split(\" \").tolist()\n",
        "train_pixels = np.uint8(train_pixels)"
      ],
      "metadata": {
        "id": "sc3jJPOH5_1R"
      },
      "execution_count": null,
      "outputs": []
    },
    {
      "cell_type": "code",
      "source": [
        "#Standardization\n",
        "pixels = train_pixels.reshape((35887*2304,1))"
      ],
      "metadata": {
        "id": "gifzzbfn6QA8"
      },
      "execution_count": null,
      "outputs": []
    },
    {
      "cell_type": "code",
      "source": [
        "scaler = StandardScaler()\n",
        "pixels = scaler.fit_transform(pixels)"
      ],
      "metadata": {
        "id": "IoKcNthV6SxO"
      },
      "execution_count": null,
      "outputs": []
    },
    {
      "cell_type": "code",
      "source": [
        "#Reshaping the data (48,48)\n",
        "pixels = train_pixels.reshape((35887, 48, 48,1))"
      ],
      "metadata": {
        "id": "oxD-kqk8WKro"
      },
      "execution_count": null,
      "outputs": []
    },
    {
      "cell_type": "code",
      "source": [
        "#train test validation split\n",
        "X_train, X_test, y_train, y_test = train_test_split(pixels, labels, test_size=0.1, shuffle=False)\n",
        "X_train, X_val, y_train, y_val = train_test_split(X_train, y_train, test_size=0.1, shuffle=False)"
      ],
      "metadata": {
        "id": "DjcNiWDhWf1j"
      },
      "execution_count": null,
      "outputs": []
    },
    {
      "cell_type": "code",
      "source": [
        "print(X_train.shape)\n",
        "print(X_test.shape)\n",
        "print(X_val.shape)"
      ],
      "metadata": {
        "colab": {
          "base_uri": "https://localhost:8080/"
        },
        "id": "B1ZGYuogWrkj",
        "outputId": "6f35f261-2bed-4a26-b03d-3f3df169e9cc"
      },
      "execution_count": null,
      "outputs": [
        {
          "output_type": "stream",
          "name": "stdout",
          "text": [
            "(29068, 48, 48, 1)\n",
            "(3589, 48, 48, 1)\n",
            "(3230, 48, 48, 1)\n"
          ]
        }
      ]
    },
    {
      "cell_type": "code",
      "source": [
        "#Data augmentation\n",
        "datagen = ImageDataGenerator(  width_shift_range = 0.1,\n",
        "                               height_shift_range = 0.1,\n",
        "                               horizontal_flip = True,\n",
        "                               zoom_range = 0.2)\n",
        "valgen = ImageDataGenerator(   width_shift_range = 0.1,\n",
        "                               height_shift_range = 0.1,\n",
        "                               horizontal_flip = True,\n",
        "                               zoom_range = 0.2)"
      ],
      "metadata": {
        "id": "RVZtzNdFWwpz"
      },
      "execution_count": null,
      "outputs": []
    },
    {
      "cell_type": "code",
      "source": [
        "datagen.fit(X_train)\n",
        "valgen.fit(X_val)"
      ],
      "metadata": {
        "id": "BqQp0OxFW3nr"
      },
      "execution_count": null,
      "outputs": []
    },
    {
      "cell_type": "code",
      "source": [
        "train_generator = datagen.flow(X_train, y_train, batch_size=64)\n",
        "val_generator = datagen.flow(X_val, y_val, batch_size=64)"
      ],
      "metadata": {
        "id": "nTUE_xUhW6DM"
      },
      "execution_count": null,
      "outputs": []
    },
    {
      "cell_type": "markdown",
      "source": [
        "# **CNN model**"
      ],
      "metadata": {
        "id": "UFETR40AsZX5"
      }
    },
    {
      "cell_type": "code",
      "source": [
        "def cnn_model():\n",
        "\n",
        "  model= tf.keras.models.Sequential()\n",
        "  model.add(Conv2D(32, kernel_size=(3, 3), padding='same', activation='relu', input_shape=(48, 48,1)))\n",
        "  model.add(Conv2D(64,(3,3), padding='same', activation='relu' ))\n",
        "  model.add(BatchNormalization())\n",
        "  model.add(MaxPool2D(pool_size=(2, 2)))\n",
        "  model.add(Dropout(0.25))\n",
        "\n",
        "  model.add(Conv2D(128,(5,5), padding='same', activation='relu'))\n",
        "  model.add(BatchNormalization())\n",
        "  model.add(MaxPool2D(pool_size=(2, 2)))\n",
        "  model.add(Dropout(0.25))\n",
        "      \n",
        "  model.add(Conv2D(512,(3,3), padding='same', activation='relu', kernel_regularizer=regularizers.l2(0.01)))\n",
        "  model.add(BatchNormalization())\n",
        "  model.add(MaxPool2D(pool_size=(2, 2)))\n",
        "  model.add(Dropout(0.25))\n",
        "\n",
        "  model.add(Conv2D(512,(3,3), padding='same', activation='relu', kernel_regularizer=regularizers.l2(0.01)))\n",
        "  model.add(BatchNormalization())\n",
        "  model.add(MaxPool2D(pool_size=(2, 2)))\n",
        "  model.add(Dropout(0.25))\n",
        "\n",
        "  model.add(Conv2D(512,(3,3), padding='same', activation='relu', kernel_regularizer=regularizers.l2(0.01)))\n",
        "  model.add(BatchNormalization())\n",
        "  model.add(MaxPool2D(pool_size=(2, 2)))\n",
        "  model.add(Dropout(0.25))\n",
        "\n",
        "  model.add(Flatten()) \n",
        "  model.add(Dense(256,activation = 'relu'))\n",
        "  model.add(BatchNormalization())\n",
        "  model.add(Dropout(0.25))\n",
        "      \n",
        "  model.add(Dense(512,activation = 'relu'))\n",
        "  model.add(BatchNormalization())\n",
        "  model.add(Dropout(0.25))\n",
        "\n",
        "  model.add(Dense(7, activation='softmax'))\n",
        "  model.compile(\n",
        "    optimizer = Adam(lr=0.0001), \n",
        "    loss='categorical_crossentropy', \n",
        "    metrics=['accuracy'])\n",
        "  return model"
      ],
      "metadata": {
        "id": "jULgrsd4scZA"
      },
      "execution_count": null,
      "outputs": []
    },
    {
      "cell_type": "code",
      "source": [
        "model = cnn_model()"
      ],
      "metadata": {
        "id": "JL9Lu3m3sxLi"
      },
      "execution_count": null,
      "outputs": []
    },
    {
      "cell_type": "code",
      "source": [
        "model.compile(\n",
        "    optimizer = Adam(lr=0.0001), \n",
        "    loss='categorical_crossentropy', \n",
        "    metrics=['accuracy'])"
      ],
      "metadata": {
        "id": "5WRcq-93s-Xf"
      },
      "execution_count": null,
      "outputs": []
    },
    {
      "cell_type": "code",
      "source": [
        "model.summary()"
      ],
      "metadata": {
        "colab": {
          "base_uri": "https://localhost:8080/"
        },
        "id": "t-luCI7Ys_cD",
        "outputId": "fff1d889-675f-4486-c20d-a929a1abc5d4"
      },
      "execution_count": null,
      "outputs": [
        {
          "output_type": "stream",
          "name": "stdout",
          "text": [
            "Model: \"sequential\"\n",
            "_________________________________________________________________\n",
            " Layer (type)                Output Shape              Param #   \n",
            "=================================================================\n",
            " conv2d (Conv2D)             (None, 48, 48, 32)        320       \n",
            "                                                                 \n",
            " conv2d_1 (Conv2D)           (None, 48, 48, 64)        18496     \n",
            "                                                                 \n",
            " batch_normalization (BatchN  (None, 48, 48, 64)       256       \n",
            " ormalization)                                                   \n",
            "                                                                 \n",
            " max_pooling2d (MaxPooling2D  (None, 24, 24, 64)       0         \n",
            " )                                                               \n",
            "                                                                 \n",
            " dropout (Dropout)           (None, 24, 24, 64)        0         \n",
            "                                                                 \n",
            " conv2d_2 (Conv2D)           (None, 24, 24, 128)       204928    \n",
            "                                                                 \n",
            " batch_normalization_1 (Batc  (None, 24, 24, 128)      512       \n",
            " hNormalization)                                                 \n",
            "                                                                 \n",
            " max_pooling2d_1 (MaxPooling  (None, 12, 12, 128)      0         \n",
            " 2D)                                                             \n",
            "                                                                 \n",
            " dropout_1 (Dropout)         (None, 12, 12, 128)       0         \n",
            "                                                                 \n",
            " conv2d_3 (Conv2D)           (None, 12, 12, 512)       590336    \n",
            "                                                                 \n",
            " batch_normalization_2 (Batc  (None, 12, 12, 512)      2048      \n",
            " hNormalization)                                                 \n",
            "                                                                 \n",
            " max_pooling2d_2 (MaxPooling  (None, 6, 6, 512)        0         \n",
            " 2D)                                                             \n",
            "                                                                 \n",
            " dropout_2 (Dropout)         (None, 6, 6, 512)         0         \n",
            "                                                                 \n",
            " conv2d_4 (Conv2D)           (None, 6, 6, 512)         2359808   \n",
            "                                                                 \n",
            " batch_normalization_3 (Batc  (None, 6, 6, 512)        2048      \n",
            " hNormalization)                                                 \n",
            "                                                                 \n",
            " max_pooling2d_3 (MaxPooling  (None, 3, 3, 512)        0         \n",
            " 2D)                                                             \n",
            "                                                                 \n",
            " dropout_3 (Dropout)         (None, 3, 3, 512)         0         \n",
            "                                                                 \n",
            " conv2d_5 (Conv2D)           (None, 3, 3, 512)         2359808   \n",
            "                                                                 \n",
            " batch_normalization_4 (Batc  (None, 3, 3, 512)        2048      \n",
            " hNormalization)                                                 \n",
            "                                                                 \n",
            " max_pooling2d_4 (MaxPooling  (None, 1, 1, 512)        0         \n",
            " 2D)                                                             \n",
            "                                                                 \n",
            " dropout_4 (Dropout)         (None, 1, 1, 512)         0         \n",
            "                                                                 \n",
            " flatten (Flatten)           (None, 512)               0         \n",
            "                                                                 \n",
            " dense (Dense)               (None, 256)               131328    \n",
            "                                                                 \n",
            " batch_normalization_5 (Batc  (None, 256)              1024      \n",
            " hNormalization)                                                 \n",
            "                                                                 \n",
            " dropout_5 (Dropout)         (None, 256)               0         \n",
            "                                                                 \n",
            " dense_1 (Dense)             (None, 512)               131584    \n",
            "                                                                 \n",
            " batch_normalization_6 (Batc  (None, 512)              2048      \n",
            " hNormalization)                                                 \n",
            "                                                                 \n",
            " dropout_6 (Dropout)         (None, 512)               0         \n",
            "                                                                 \n",
            " dense_2 (Dense)             (None, 7)                 3591      \n",
            "                                                                 \n",
            "=================================================================\n",
            "Total params: 5,810,183\n",
            "Trainable params: 5,805,191\n",
            "Non-trainable params: 4,992\n",
            "_________________________________________________________________\n"
          ]
        }
      ]
    },
    {
      "cell_type": "code",
      "source": [
        "#Adding checkpointer to implement Early Stopping to prevent overfitting.\n",
        "checkpointer = [EarlyStopping(monitor = 'val_accuracy', verbose = 1, \n",
        "                              restore_best_weights=True,mode=\"max\",patience = 5),\n",
        "                ModelCheckpoint('best_model.h5',monitor=\"val_accuracy\",verbose=1,\n",
        "                                save_best_only=True,mode=\"max\")]"
      ],
      "metadata": {
        "id": "P19DdQ53tkaN"
      },
      "execution_count": null,
      "outputs": []
    },
    {
      "cell_type": "code",
      "source": [
        "history = model.fit(train_generator,\n",
        "                    epochs=30,\n",
        "                    batch_size=512,   \n",
        "                    verbose=1,\n",
        "                    callbacks=[checkpointer],\n",
        "                    validation_data=val_generator)"
      ],
      "metadata": {
        "colab": {
          "base_uri": "https://localhost:8080/"
        },
        "id": "GmX2dIVCtxAb",
        "outputId": "f8585b21-545b-4707-9347-5c7e0ddf128c"
      },
      "execution_count": null,
      "outputs": [
        {
          "output_type": "stream",
          "name": "stdout",
          "text": [
            "Epoch 1/30\n",
            "454/455 [============================>.] - ETA: 0s - loss: 14.0583 - accuracy: 0.1808\n",
            "Epoch 1: val_accuracy improved from -inf to 0.25108, saving model to best_model.h5\n",
            "455/455 [==============================] - 31s 44ms/step - loss: 14.0563 - accuracy: 0.1810 - val_loss: 12.8209 - val_accuracy: 0.2511\n",
            "Epoch 2/30\n",
            "454/455 [============================>.] - ETA: 0s - loss: 12.1046 - accuracy: 0.2082\n",
            "Epoch 2: val_accuracy improved from 0.25108 to 0.25356, saving model to best_model.h5\n",
            "455/455 [==============================] - 19s 41ms/step - loss: 12.1020 - accuracy: 0.2084 - val_loss: 10.8546 - val_accuracy: 0.2536\n",
            "Epoch 3/30\n",
            "454/455 [============================>.] - ETA: 0s - loss: 10.0707 - accuracy: 0.2293\n",
            "Epoch 3: val_accuracy improved from 0.25356 to 0.25449, saving model to best_model.h5\n",
            "455/455 [==============================] - 19s 41ms/step - loss: 10.0686 - accuracy: 0.2294 - val_loss: 8.9145 - val_accuracy: 0.2545\n",
            "Epoch 4/30\n",
            "454/455 [============================>.] - ETA: 0s - loss: 8.1625 - accuracy: 0.2417\n",
            "Epoch 4: val_accuracy improved from 0.25449 to 0.27771, saving model to best_model.h5\n",
            "455/455 [==============================] - 19s 42ms/step - loss: 8.1605 - accuracy: 0.2417 - val_loss: 7.1872 - val_accuracy: 0.2777\n",
            "Epoch 5/30\n",
            "455/455 [==============================] - ETA: 0s - loss: 6.5056 - accuracy: 0.2642\n",
            "Epoch 5: val_accuracy did not improve from 0.27771\n",
            "455/455 [==============================] - 19s 42ms/step - loss: 6.5056 - accuracy: 0.2642 - val_loss: 5.8266 - val_accuracy: 0.2672\n",
            "Epoch 6/30\n",
            "455/455 [==============================] - ETA: 0s - loss: 5.1725 - accuracy: 0.2991\n",
            "Epoch 6: val_accuracy improved from 0.27771 to 0.31579, saving model to best_model.h5\n",
            "455/455 [==============================] - 19s 42ms/step - loss: 5.1725 - accuracy: 0.2991 - val_loss: 4.6871 - val_accuracy: 0.3158\n",
            "Epoch 7/30\n",
            "454/455 [============================>.] - ETA: 0s - loss: 4.1712 - accuracy: 0.3302\n",
            "Epoch 7: val_accuracy improved from 0.31579 to 0.35015, saving model to best_model.h5\n",
            "455/455 [==============================] - 19s 42ms/step - loss: 4.1704 - accuracy: 0.3304 - val_loss: 3.7703 - val_accuracy: 0.3502\n",
            "Epoch 8/30\n",
            "455/455 [==============================] - ETA: 0s - loss: 3.4303 - accuracy: 0.3659\n",
            "Epoch 8: val_accuracy improved from 0.35015 to 0.36935, saving model to best_model.h5\n",
            "455/455 [==============================] - 19s 42ms/step - loss: 3.4303 - accuracy: 0.3659 - val_loss: 3.1453 - val_accuracy: 0.3693\n",
            "Epoch 9/30\n",
            "454/455 [============================>.] - ETA: 0s - loss: 2.9102 - accuracy: 0.3961\n",
            "Epoch 9: val_accuracy improved from 0.36935 to 0.44675, saving model to best_model.h5\n",
            "455/455 [==============================] - 19s 42ms/step - loss: 2.9101 - accuracy: 0.3959 - val_loss: 2.6040 - val_accuracy: 0.4467\n",
            "Epoch 10/30\n",
            "455/455 [==============================] - ETA: 0s - loss: 2.5536 - accuracy: 0.4283\n",
            "Epoch 10: val_accuracy improved from 0.44675 to 0.45449, saving model to best_model.h5\n",
            "455/455 [==============================] - 19s 42ms/step - loss: 2.5536 - accuracy: 0.4283 - val_loss: 2.4056 - val_accuracy: 0.4545\n",
            "Epoch 11/30\n",
            "455/455 [==============================] - ETA: 0s - loss: 2.3170 - accuracy: 0.4522\n",
            "Epoch 11: val_accuracy improved from 0.45449 to 0.48947, saving model to best_model.h5\n",
            "455/455 [==============================] - 19s 42ms/step - loss: 2.3170 - accuracy: 0.4522 - val_loss: 2.1420 - val_accuracy: 0.4895\n",
            "Epoch 12/30\n",
            "455/455 [==============================] - ETA: 0s - loss: 2.1303 - accuracy: 0.4762\n",
            "Epoch 12: val_accuracy improved from 0.48947 to 0.51115, saving model to best_model.h5\n",
            "455/455 [==============================] - 19s 42ms/step - loss: 2.1303 - accuracy: 0.4762 - val_loss: 1.9900 - val_accuracy: 0.5111\n",
            "Epoch 13/30\n",
            "455/455 [==============================] - ETA: 0s - loss: 2.0055 - accuracy: 0.4972\n",
            "Epoch 13: val_accuracy improved from 0.51115 to 0.52477, saving model to best_model.h5\n",
            "455/455 [==============================] - 19s 42ms/step - loss: 2.0055 - accuracy: 0.4972 - val_loss: 1.9061 - val_accuracy: 0.5248\n",
            "Epoch 14/30\n",
            "455/455 [==============================] - ETA: 0s - loss: 1.9110 - accuracy: 0.5090\n",
            "Epoch 14: val_accuracy did not improve from 0.52477\n",
            "455/455 [==============================] - 19s 42ms/step - loss: 1.9110 - accuracy: 0.5090 - val_loss: 1.9972 - val_accuracy: 0.4523\n",
            "Epoch 15/30\n",
            "455/455 [==============================] - ETA: 0s - loss: 1.8298 - accuracy: 0.5225\n",
            "Epoch 15: val_accuracy did not improve from 0.52477\n",
            "455/455 [==============================] - 19s 41ms/step - loss: 1.8298 - accuracy: 0.5225 - val_loss: 1.7778 - val_accuracy: 0.5232\n",
            "Epoch 16/30\n",
            "455/455 [==============================] - ETA: 0s - loss: 1.7822 - accuracy: 0.5334\n",
            "Epoch 16: val_accuracy did not improve from 0.52477\n",
            "455/455 [==============================] - 19s 41ms/step - loss: 1.7822 - accuracy: 0.5334 - val_loss: 1.7660 - val_accuracy: 0.5207\n",
            "Epoch 17/30\n",
            "454/455 [============================>.] - ETA: 0s - loss: 1.7369 - accuracy: 0.5399\n",
            "Epoch 17: val_accuracy improved from 0.52477 to 0.56440, saving model to best_model.h5\n",
            "455/455 [==============================] - 19s 42ms/step - loss: 1.7371 - accuracy: 0.5398 - val_loss: 1.6558 - val_accuracy: 0.5644\n",
            "Epoch 18/30\n",
            "454/455 [============================>.] - ETA: 0s - loss: 1.7176 - accuracy: 0.5414\n",
            "Epoch 18: val_accuracy did not improve from 0.56440\n",
            "455/455 [==============================] - 19s 41ms/step - loss: 1.7173 - accuracy: 0.5417 - val_loss: 1.6658 - val_accuracy: 0.5560\n",
            "Epoch 19/30\n",
            "455/455 [==============================] - ETA: 0s - loss: 1.6846 - accuracy: 0.5545\n",
            "Epoch 19: val_accuracy did not improve from 0.56440\n",
            "455/455 [==============================] - 19s 42ms/step - loss: 1.6846 - accuracy: 0.5545 - val_loss: 1.6566 - val_accuracy: 0.5483\n",
            "Epoch 20/30\n",
            "455/455 [==============================] - ETA: 0s - loss: 1.6572 - accuracy: 0.5601\n",
            "Epoch 20: val_accuracy did not improve from 0.56440\n",
            "455/455 [==============================] - 19s 42ms/step - loss: 1.6572 - accuracy: 0.5601 - val_loss: 1.6276 - val_accuracy: 0.5641\n",
            "Epoch 21/30\n",
            "454/455 [============================>.] - ETA: 0s - loss: 1.6399 - accuracy: 0.5686\n",
            "Epoch 21: val_accuracy improved from 0.56440 to 0.57709, saving model to best_model.h5\n",
            "455/455 [==============================] - 19s 42ms/step - loss: 1.6398 - accuracy: 0.5686 - val_loss: 1.6180 - val_accuracy: 0.5771\n",
            "Epoch 22/30\n",
            "455/455 [==============================] - ETA: 0s - loss: 1.6360 - accuracy: 0.5678\n",
            "Epoch 22: val_accuracy did not improve from 0.57709\n",
            "455/455 [==============================] - 19s 42ms/step - loss: 1.6360 - accuracy: 0.5678 - val_loss: 1.6205 - val_accuracy: 0.5690\n",
            "Epoch 23/30\n",
            "454/455 [============================>.] - ETA: 0s - loss: 1.6203 - accuracy: 0.5732\n",
            "Epoch 23: val_accuracy improved from 0.57709 to 0.58452, saving model to best_model.h5\n",
            "455/455 [==============================] - 19s 42ms/step - loss: 1.6207 - accuracy: 0.5731 - val_loss: 1.5900 - val_accuracy: 0.5845\n",
            "Epoch 24/30\n",
            "455/455 [==============================] - ETA: 0s - loss: 1.6057 - accuracy: 0.5764\n",
            "Epoch 24: val_accuracy improved from 0.58452 to 0.58824, saving model to best_model.h5\n",
            "455/455 [==============================] - 19s 42ms/step - loss: 1.6057 - accuracy: 0.5764 - val_loss: 1.5665 - val_accuracy: 0.5882\n",
            "Epoch 25/30\n",
            "455/455 [==============================] - ETA: 0s - loss: 1.5963 - accuracy: 0.5807\n",
            "Epoch 25: val_accuracy improved from 0.58824 to 0.60310, saving model to best_model.h5\n",
            "455/455 [==============================] - 19s 42ms/step - loss: 1.5963 - accuracy: 0.5807 - val_loss: 1.5085 - val_accuracy: 0.6031\n",
            "Epoch 26/30\n",
            "454/455 [============================>.] - ETA: 0s - loss: 1.5844 - accuracy: 0.5857\n",
            "Epoch 26: val_accuracy did not improve from 0.60310\n",
            "455/455 [==============================] - 19s 42ms/step - loss: 1.5847 - accuracy: 0.5856 - val_loss: 1.5968 - val_accuracy: 0.5824\n",
            "Epoch 27/30\n",
            "454/455 [============================>.] - ETA: 0s - loss: 1.5785 - accuracy: 0.5849\n",
            "Epoch 27: val_accuracy did not improve from 0.60310\n",
            "455/455 [==============================] - 19s 42ms/step - loss: 1.5782 - accuracy: 0.5851 - val_loss: 1.5779 - val_accuracy: 0.5820\n",
            "Epoch 28/30\n",
            "455/455 [==============================] - ETA: 0s - loss: 1.5769 - accuracy: 0.5880\n",
            "Epoch 28: val_accuracy improved from 0.60310 to 0.61022, saving model to best_model.h5\n",
            "455/455 [==============================] - 19s 42ms/step - loss: 1.5769 - accuracy: 0.5880 - val_loss: 1.5024 - val_accuracy: 0.6102\n",
            "Epoch 29/30\n",
            "455/455 [==============================] - ETA: 0s - loss: 1.5599 - accuracy: 0.5925\n",
            "Epoch 29: val_accuracy did not improve from 0.61022\n",
            "455/455 [==============================] - 19s 41ms/step - loss: 1.5599 - accuracy: 0.5925 - val_loss: 1.5141 - val_accuracy: 0.6056\n",
            "Epoch 30/30\n",
            "455/455 [==============================] - ETA: 0s - loss: 1.5550 - accuracy: 0.5962\n",
            "Epoch 30: val_accuracy did not improve from 0.61022\n",
            "455/455 [==============================] - 19s 41ms/step - loss: 1.5550 - accuracy: 0.5962 - val_loss: 1.5041 - val_accuracy: 0.6062\n"
          ]
        }
      ]
    },
    {
      "cell_type": "code",
      "source": [
        "#Visualizing results\n",
        "#Loss\n",
        "plt.plot(history.history[\"loss\"],'r', label=\"Training Loss\")\n",
        "plt.plot(history.history[\"val_loss\"],'b', label=\"Validation Loss\")\n",
        "plt.legend()"
      ],
      "metadata": {
        "id": "39aCbhH1t13P",
        "colab": {
          "base_uri": "https://localhost:8080/",
          "height": 282
        },
        "outputId": "883c8db8-8c6e-4ebc-c453-b54a008cd326"
      },
      "execution_count": null,
      "outputs": [
        {
          "output_type": "execute_result",
          "data": {
            "text/plain": [
              "<matplotlib.legend.Legend at 0x7fdb3e62fe50>"
            ]
          },
          "metadata": {},
          "execution_count": 45
        },
        {
          "output_type": "display_data",
          "data": {
            "text/plain": [
              "<Figure size 432x288 with 1 Axes>"
            ],
            "image/png": "[encoded data removed]"
          },
          "metadata": {
            "needs_background": "light"
          }
        }
      ]
    },
    {
      "cell_type": "code",
      "source": [
        "#Accuracy\n",
        "plt.plot(history.history[\"accuracy\"],'r',label=\"Training Accuracy\")\n",
        "plt.plot(history.history[\"val_accuracy\"],'b',label=\"Validation Accuracy\")\n",
        "plt.legend()"
      ],
      "metadata": {
        "id": "vqgamfnlt7kz",
        "colab": {
          "base_uri": "https://localhost:8080/",
          "height": 282
        },
        "outputId": "d66f3d80-c62d-419a-f036-9bef14bfaa4a"
      },
      "execution_count": null,
      "outputs": [
        {
          "output_type": "execute_result",
          "data": {
            "text/plain": [
              "<matplotlib.legend.Legend at 0x7fdb3e5a45b0>"
            ]
          },
          "metadata": {},
          "execution_count": 46
        },
        {
          "output_type": "display_data",
          "data": {
            "text/plain": [
              "<Figure size 432x288 with 1 Axes>"
            ],
            "image/png": "[encoded data removed]"
          },
          "metadata": {
            "needs_background": "light"
          }
        }
      ]
    },
    {
      "cell_type": "code",
      "source": [
        "loss = model.evaluate(X_test,y_test) \n",
        "print(\"Test Acc: \" + str(loss[1]))"
      ],
      "metadata": {
        "id": "75_AF4eZt_KR",
        "colab": {
          "base_uri": "https://localhost:8080/"
        },
        "outputId": "b807cc86-effd-4c7f-f433-025adab7c87a"
      },
      "execution_count": null,
      "outputs": [
        {
          "output_type": "stream",
          "name": "stdout",
          "text": [
            "113/113 [==============================] - 1s 8ms/step - loss: 1.4574 - accuracy: 0.6344\n",
            "Test Acc: 0.6344385743141174\n"
          ]
        }
      ]
    },
    {
      "cell_type": "code",
      "source": [
        "preds = model.predict(X_test)\n",
        "y_pred = np.argmax(preds , axis = 1 )"
      ],
      "metadata": {
        "id": "LYeC-QjVt_8L",
        "colab": {
          "base_uri": "https://localhost:8080/"
        },
        "outputId": "0c12cdac-98e3-4409-a12d-34c4dbdb726d"
      },
      "execution_count": null,
      "outputs": [
        {
          "output_type": "stream",
          "name": "stdout",
          "text": [
            "113/113 [==============================] - 1s 7ms/step\n"
          ]
        }
      ]
    },
    {
      "cell_type": "code",
      "source": [
        "#confusion matrix\n",
        "CLASS_LABELS  = ['Anger', 'Disgust', 'Fear', 'Happy', 'Neutral', 'Sadness', \"Surprise\"]\n",
        "\n",
        "cm_data = confusion_matrix(np.argmax(y_test, axis = 1 ), y_pred)\n",
        "cm = pd.DataFrame(cm_data, columns=CLASS_LABELS, index = CLASS_LABELS)\n",
        "cm.index.name = 'Actual'\n",
        "cm.columns.name = 'Predicted'\n",
        "plt.figure(figsize = (15,10))\n",
        "plt.title('Confusion Matrix', fontsize = 20)\n",
        "sns.set(font_scale=1.2)\n",
        "ax = sns.heatmap(cm, cbar=False, cmap=\"Blues\", annot=True, annot_kws={\"size\": 16}, fmt='g')\n"
      ],
      "metadata": {
        "id": "l4GbI_4guPQH",
        "colab": {
          "base_uri": "https://localhost:8080/",
          "height": 636
        },
        "outputId": "d9eead24-1aba-406a-9634-c2b99e5ad0ad"
      },
      "execution_count": null,
      "outputs": [
        {
          "output_type": "display_data",
          "data": {
            "text/plain": [
              "<Figure size 1080x720 with 1 Axes>"
            ],
            "image/png": "[encoded data removed]"
          },
          "metadata": {}
        }
      ]
    },
    {
      "cell_type": "code",
      "source": [
        "from sklearn.metrics import classification_report\n",
        "print(classification_report(np.argmax(y_test, axis = 1 ),y_pred,digits=3))"
      ],
      "metadata": {
        "id": "z190UG_gud0X",
        "colab": {
          "base_uri": "https://localhost:8080/"
        },
        "outputId": "83f37e34-fca8-4c98-ac9c-db46794ac3ad"
      },
      "execution_count": null,
      "outputs": [
        {
          "output_type": "stream",
          "name": "stdout",
          "text": [
            "              precision    recall  f1-score   support\n",
            "\n",
            "           0      0.520     0.534     0.527       476\n",
            "           1      0.733     0.250     0.373        44\n",
            "           2      0.560     0.307     0.397       485\n",
            "           3      0.914     0.789     0.847       930\n",
            "           4      0.512     0.526     0.519       578\n",
            "           5      0.624     0.827     0.711       399\n",
            "           6      0.554     0.731     0.630       677\n",
            "\n",
            "    accuracy                          0.634      3589\n",
            "   macro avg      0.631     0.566     0.572      3589\n",
            "weighted avg      0.647     0.634     0.629      3589\n",
            "\n"
          ]
        }
      ]
    },
    {
      "cell_type": "code",
      "source": [
        "#IMPROVING THE MODEL\n",
        "#change the epoch number as 50 for the cnn_mode\n",
        "model = cnn_model()\n",
        "model.compile(\n",
        "    optimizer = Adam(lr=0.0001), \n",
        "    loss='categorical_crossentropy', \n",
        "    metrics=['accuracy'])\n",
        "checkpointer = [EarlyStopping(monitor = 'val_accuracy', verbose = 1, \n",
        "                              restore_best_weights=True,mode=\"max\",patience = 10),\n",
        "                              ModelCheckpoint('best_model.h5',monitor=\"val_accuracy\",verbose=1,\n",
        "                              save_best_only=True,mode=\"max\")]\n",
        "history = model.fit(train_generator,\n",
        "                    epochs=50,\n",
        "                    batch_size=512,   \n",
        "                    verbose=1,\n",
        "                    callbacks=[checkpointer],\n",
        "                    validation_data=val_generator)\n",
        "\n"
      ],
      "metadata": {
        "id": "b24gcH1xuexK",
        "colab": {
          "base_uri": "https://localhost:8080/"
        },
        "outputId": "005f1772-4255-41b3-9bbf-a68e3039b8a2"
      },
      "execution_count": null,
      "outputs": [
        {
          "output_type": "stream",
          "name": "stdout",
          "text": [
            "Epoch 1/50\n",
            "454/455 [============================>.] - ETA: 0s - loss: 14.1343 - accuracy: 0.1845\n",
            "Epoch 1: val_accuracy improved from -inf to 0.25449, saving model to best_model.h5\n",
            "455/455 [==============================] - 25s 48ms/step - loss: 14.1325 - accuracy: 0.1846 - val_loss: 12.9400 - val_accuracy: 0.2545\n",
            "Epoch 2/50\n",
            "455/455 [==============================] - ETA: 0s - loss: 12.3155 - accuracy: 0.2116\n",
            "Epoch 2: val_accuracy did not improve from 0.25449\n",
            "455/455 [==============================] - 19s 42ms/step - loss: 12.3155 - accuracy: 0.2116 - val_loss: 11.3405 - val_accuracy: 0.2492\n",
            "Epoch 3/50\n",
            "455/455 [==============================] - ETA: 0s - loss: 10.4240 - accuracy: 0.2317\n",
            "Epoch 3: val_accuracy improved from 0.25449 to 0.26533, saving model to best_model.h5\n",
            "455/455 [==============================] - 19s 42ms/step - loss: 10.4240 - accuracy: 0.2317 - val_loss: 9.3309 - val_accuracy: 0.2653\n",
            "Epoch 4/50\n",
            "455/455 [==============================] - ETA: 0s - loss: 8.5918 - accuracy: 0.2538\n",
            "Epoch 4: val_accuracy improved from 0.26533 to 0.27152, saving model to best_model.h5\n",
            "455/455 [==============================] - 19s 42ms/step - loss: 8.5918 - accuracy: 0.2538 - val_loss: 7.7530 - val_accuracy: 0.2715\n",
            "Epoch 5/50\n",
            "455/455 [==============================] - ETA: 0s - loss: 6.9545 - accuracy: 0.2885\n",
            "Epoch 5: val_accuracy improved from 0.27152 to 0.32012, saving model to best_model.h5\n",
            "455/455 [==============================] - 19s 42ms/step - loss: 6.9545 - accuracy: 0.2885 - val_loss: 6.1189 - val_accuracy: 0.3201\n",
            "Epoch 6/50\n",
            "454/455 [============================>.] - ETA: 0s - loss: 5.6252 - accuracy: 0.3172\n",
            "Epoch 6: val_accuracy improved from 0.32012 to 0.35077, saving model to best_model.h5\n",
            "455/455 [==============================] - 21s 46ms/step - loss: 5.6241 - accuracy: 0.3170 - val_loss: 5.1129 - val_accuracy: 0.3508\n",
            "Epoch 7/50\n",
            "455/455 [==============================] - ETA: 0s - loss: 4.5962 - accuracy: 0.3527\n",
            "Epoch 7: val_accuracy improved from 0.35077 to 0.39195, saving model to best_model.h5\n",
            "455/455 [==============================] - 19s 42ms/step - loss: 4.5962 - accuracy: 0.3527 - val_loss: 4.1712 - val_accuracy: 0.3920\n",
            "Epoch 8/50\n",
            "454/455 [============================>.] - ETA: 0s - loss: 3.8184 - accuracy: 0.3780\n",
            "Epoch 8: val_accuracy did not improve from 0.39195\n",
            "455/455 [==============================] - 19s 41ms/step - loss: 3.8171 - accuracy: 0.3783 - val_loss: 3.5609 - val_accuracy: 0.3709\n",
            "Epoch 9/50\n",
            "454/455 [============================>.] - ETA: 0s - loss: 3.2097 - accuracy: 0.4199\n",
            "Epoch 9: val_accuracy improved from 0.39195 to 0.45263, saving model to best_model.h5\n",
            "455/455 [==============================] - 19s 42ms/step - loss: 3.2090 - accuracy: 0.4198 - val_loss: 2.9260 - val_accuracy: 0.4526\n",
            "Epoch 10/50\n",
            "455/455 [==============================] - ETA: 0s - loss: 2.7840 - accuracy: 0.4479\n",
            "Epoch 10: val_accuracy improved from 0.45263 to 0.48762, saving model to best_model.h5\n",
            "455/455 [==============================] - 19s 42ms/step - loss: 2.7840 - accuracy: 0.4479 - val_loss: 2.5468 - val_accuracy: 0.4876\n",
            "Epoch 11/50\n",
            "455/455 [==============================] - ETA: 0s - loss: 2.4646 - accuracy: 0.4721\n",
            "Epoch 11: val_accuracy improved from 0.48762 to 0.49752, saving model to best_model.h5\n",
            "455/455 [==============================] - 19s 42ms/step - loss: 2.4646 - accuracy: 0.4721 - val_loss: 2.2749 - val_accuracy: 0.4975\n",
            "Epoch 12/50\n",
            "454/455 [============================>.] - ETA: 0s - loss: 2.2294 - accuracy: 0.4894\n",
            "Epoch 12: val_accuracy improved from 0.49752 to 0.53467, saving model to best_model.h5\n",
            "455/455 [==============================] - 19s 42ms/step - loss: 2.2289 - accuracy: 0.4896 - val_loss: 2.0414 - val_accuracy: 0.5347\n",
            "Epoch 13/50\n",
            "454/455 [============================>.] - ETA: 0s - loss: 2.0577 - accuracy: 0.5106\n",
            "Epoch 13: val_accuracy did not improve from 0.53467\n",
            "455/455 [==============================] - 19s 42ms/step - loss: 2.0576 - accuracy: 0.5107 - val_loss: 2.0059 - val_accuracy: 0.5071\n",
            "Epoch 14/50\n",
            "454/455 [============================>.] - ETA: 0s - loss: 1.9356 - accuracy: 0.5212\n",
            "Epoch 14: val_accuracy improved from 0.53467 to 0.54892, saving model to best_model.h5\n",
            "455/455 [==============================] - 19s 42ms/step - loss: 1.9354 - accuracy: 0.5212 - val_loss: 1.8370 - val_accuracy: 0.5489\n",
            "Epoch 15/50\n",
            "454/455 [============================>.] - ETA: 0s - loss: 1.8437 - accuracy: 0.5286\n",
            "Epoch 15: val_accuracy improved from 0.54892 to 0.56068, saving model to best_model.h5\n",
            "455/455 [==============================] - 19s 42ms/step - loss: 1.8433 - accuracy: 0.5287 - val_loss: 1.7356 - val_accuracy: 0.5607\n",
            "Epoch 16/50\n",
            "454/455 [============================>.] - ETA: 0s - loss: 1.7730 - accuracy: 0.5424\n",
            "Epoch 16: val_accuracy did not improve from 0.56068\n",
            "455/455 [==============================] - 19s 41ms/step - loss: 1.7733 - accuracy: 0.5423 - val_loss: 1.7916 - val_accuracy: 0.5183\n",
            "Epoch 17/50\n",
            "455/455 [==============================] - ETA: 0s - loss: 1.7274 - accuracy: 0.5490\n",
            "Epoch 17: val_accuracy improved from 0.56068 to 0.57028, saving model to best_model.h5\n",
            "455/455 [==============================] - 19s 42ms/step - loss: 1.7274 - accuracy: 0.5490 - val_loss: 1.6738 - val_accuracy: 0.5703\n",
            "Epoch 18/50\n",
            "455/455 [==============================] - ETA: 0s - loss: 1.6997 - accuracy: 0.5540\n",
            "Epoch 18: val_accuracy did not improve from 0.57028\n",
            "455/455 [==============================] - 19s 41ms/step - loss: 1.6997 - accuracy: 0.5540 - val_loss: 1.6804 - val_accuracy: 0.5396\n",
            "Epoch 19/50\n",
            "454/455 [============================>.] - ETA: 0s - loss: 1.6612 - accuracy: 0.5599\n",
            "Epoch 19: val_accuracy did not improve from 0.57028\n",
            "455/455 [==============================] - 19s 42ms/step - loss: 1.6615 - accuracy: 0.5598 - val_loss: 1.6553 - val_accuracy: 0.5560\n",
            "Epoch 20/50\n",
            "454/455 [============================>.] - ETA: 0s - loss: 1.6433 - accuracy: 0.5699\n",
            "Epoch 20: val_accuracy improved from 0.57028 to 0.58050, saving model to best_model.h5\n",
            "455/455 [==============================] - 19s 42ms/step - loss: 1.6432 - accuracy: 0.5699 - val_loss: 1.5810 - val_accuracy: 0.5805\n",
            "Epoch 21/50\n",
            "455/455 [==============================] - ETA: 0s - loss: 1.6145 - accuracy: 0.5769\n",
            "Epoch 21: val_accuracy improved from 0.58050 to 0.59319, saving model to best_model.h5\n",
            "455/455 [==============================] - 19s 42ms/step - loss: 1.6145 - accuracy: 0.5769 - val_loss: 1.5492 - val_accuracy: 0.5932\n",
            "Epoch 22/50\n",
            "455/455 [==============================] - ETA: 0s - loss: 1.6047 - accuracy: 0.5775\n",
            "Epoch 22: val_accuracy did not improve from 0.59319\n",
            "455/455 [==============================] - 19s 42ms/step - loss: 1.6047 - accuracy: 0.5775 - val_loss: 1.5749 - val_accuracy: 0.5839\n",
            "Epoch 23/50\n",
            "455/455 [==============================] - ETA: 0s - loss: 1.5928 - accuracy: 0.5804\n",
            "Epoch 23: val_accuracy improved from 0.59319 to 0.60310, saving model to best_model.h5\n",
            "455/455 [==============================] - 19s 42ms/step - loss: 1.5928 - accuracy: 0.5804 - val_loss: 1.5502 - val_accuracy: 0.6031\n",
            "Epoch 24/50\n",
            "455/455 [==============================] - ETA: 0s - loss: 1.5832 - accuracy: 0.5843\n",
            "Epoch 24: val_accuracy improved from 0.60310 to 0.60372, saving model to best_model.h5\n",
            "455/455 [==============================] - 19s 42ms/step - loss: 1.5832 - accuracy: 0.5843 - val_loss: 1.5182 - val_accuracy: 0.6037\n",
            "Epoch 25/50\n",
            "455/455 [==============================] - ETA: 0s - loss: 1.5752 - accuracy: 0.5858\n",
            "Epoch 25: val_accuracy did not improve from 0.60372\n",
            "455/455 [==============================] - 19s 41ms/step - loss: 1.5752 - accuracy: 0.5858 - val_loss: 1.5292 - val_accuracy: 0.5985\n",
            "Epoch 26/50\n",
            "454/455 [============================>.] - ETA: 0s - loss: 1.5520 - accuracy: 0.5927\n",
            "Epoch 26: val_accuracy did not improve from 0.60372\n",
            "455/455 [==============================] - 19s 41ms/step - loss: 1.5522 - accuracy: 0.5927 - val_loss: 1.5274 - val_accuracy: 0.5954\n",
            "Epoch 27/50\n",
            "455/455 [==============================] - ETA: 0s - loss: 1.5521 - accuracy: 0.5952\n",
            "Epoch 27: val_accuracy did not improve from 0.60372\n",
            "455/455 [==============================] - 19s 41ms/step - loss: 1.5521 - accuracy: 0.5952 - val_loss: 1.5542 - val_accuracy: 0.5988\n",
            "Epoch 28/50\n",
            "455/455 [==============================] - ETA: 0s - loss: 1.5397 - accuracy: 0.5999\n",
            "Epoch 28: val_accuracy improved from 0.60372 to 0.61176, saving model to best_model.h5\n",
            "455/455 [==============================] - 19s 42ms/step - loss: 1.5397 - accuracy: 0.5999 - val_loss: 1.5175 - val_accuracy: 0.6118\n",
            "Epoch 29/50\n",
            "455/455 [==============================] - ETA: 0s - loss: 1.5412 - accuracy: 0.5997\n",
            "Epoch 29: val_accuracy improved from 0.61176 to 0.61672, saving model to best_model.h5\n",
            "455/455 [==============================] - 19s 42ms/step - loss: 1.5412 - accuracy: 0.5997 - val_loss: 1.5002 - val_accuracy: 0.6167\n",
            "Epoch 30/50\n",
            "455/455 [==============================] - ETA: 0s - loss: 1.5363 - accuracy: 0.6015\n",
            "Epoch 30: val_accuracy did not improve from 0.61672\n",
            "455/455 [==============================] - 19s 41ms/step - loss: 1.5363 - accuracy: 0.6015 - val_loss: 1.5482 - val_accuracy: 0.5861\n",
            "Epoch 31/50\n",
            "455/455 [==============================] - ETA: 0s - loss: 1.5308 - accuracy: 0.6020\n",
            "Epoch 31: val_accuracy did not improve from 0.61672\n",
            "455/455 [==============================] - 19s 41ms/step - loss: 1.5308 - accuracy: 0.6020 - val_loss: 1.4995 - val_accuracy: 0.6121\n",
            "Epoch 32/50\n",
            "455/455 [==============================] - ETA: 0s - loss: 1.5266 - accuracy: 0.6086\n",
            "Epoch 32: val_accuracy improved from 0.61672 to 0.61858, saving model to best_model.h5\n",
            "455/455 [==============================] - 19s 42ms/step - loss: 1.5266 - accuracy: 0.6086 - val_loss: 1.4956 - val_accuracy: 0.6186\n",
            "Epoch 33/50\n",
            "455/455 [==============================] - ETA: 0s - loss: 1.5214 - accuracy: 0.6051\n",
            "Epoch 33: val_accuracy did not improve from 0.61858\n",
            "455/455 [==============================] - 19s 42ms/step - loss: 1.5214 - accuracy: 0.6051 - val_loss: 1.5073 - val_accuracy: 0.6133\n",
            "Epoch 34/50\n",
            "454/455 [============================>.] - ETA: 0s - loss: 1.5232 - accuracy: 0.6070\n",
            "Epoch 34: val_accuracy improved from 0.61858 to 0.61981, saving model to best_model.h5\n",
            "455/455 [==============================] - 19s 42ms/step - loss: 1.5229 - accuracy: 0.6072 - val_loss: 1.4878 - val_accuracy: 0.6198\n",
            "Epoch 35/50\n",
            "454/455 [============================>.] - ETA: 0s - loss: 1.5203 - accuracy: 0.6101\n",
            "Epoch 35: val_accuracy did not improve from 0.61981\n",
            "455/455 [==============================] - 19s 41ms/step - loss: 1.5204 - accuracy: 0.6100 - val_loss: 1.4954 - val_accuracy: 0.6102\n",
            "Epoch 36/50\n",
            "455/455 [==============================] - ETA: 0s - loss: 1.5057 - accuracy: 0.6130\n",
            "Epoch 36: val_accuracy did not improve from 0.61981\n",
            "455/455 [==============================] - 19s 42ms/step - loss: 1.5057 - accuracy: 0.6130 - val_loss: 1.5491 - val_accuracy: 0.5985\n",
            "Epoch 37/50\n",
            "454/455 [============================>.] - ETA: 0s - loss: 1.4913 - accuracy: 0.6170\n",
            "Epoch 37: val_accuracy improved from 0.61981 to 0.62941, saving model to best_model.h5\n",
            "455/455 [==============================] - 19s 42ms/step - loss: 1.4913 - accuracy: 0.6170 - val_loss: 1.4634 - val_accuracy: 0.6294\n",
            "Epoch 38/50\n",
            "454/455 [============================>.] - ETA: 0s - loss: 1.4916 - accuracy: 0.6166\n",
            "Epoch 38: val_accuracy did not improve from 0.62941\n",
            "455/455 [==============================] - 19s 42ms/step - loss: 1.4919 - accuracy: 0.6163 - val_loss: 1.4692 - val_accuracy: 0.6214\n",
            "Epoch 39/50\n",
            "454/455 [============================>.] - ETA: 0s - loss: 1.4919 - accuracy: 0.6174\n",
            "Epoch 39: val_accuracy did not improve from 0.62941\n",
            "455/455 [==============================] - 19s 41ms/step - loss: 1.4920 - accuracy: 0.6173 - val_loss: 1.4938 - val_accuracy: 0.6176\n",
            "Epoch 40/50\n",
            "455/455 [==============================] - ETA: 0s - loss: 1.4890 - accuracy: 0.6180\n",
            "Epoch 40: val_accuracy did not improve from 0.62941\n",
            "455/455 [==============================] - 19s 41ms/step - loss: 1.4890 - accuracy: 0.6180 - val_loss: 1.4725 - val_accuracy: 0.6282\n",
            "Epoch 41/50\n",
            "454/455 [============================>.] - ETA: 0s - loss: 1.4764 - accuracy: 0.6250\n",
            "Epoch 41: val_accuracy improved from 0.62941 to 0.63684, saving model to best_model.h5\n",
            "455/455 [==============================] - 19s 42ms/step - loss: 1.4765 - accuracy: 0.6249 - val_loss: 1.4631 - val_accuracy: 0.6368\n",
            "Epoch 42/50\n",
            "454/455 [============================>.] - ETA: 0s - loss: 1.4836 - accuracy: 0.6226\n",
            "Epoch 42: val_accuracy did not improve from 0.63684\n",
            "455/455 [==============================] - 19s 41ms/step - loss: 1.4838 - accuracy: 0.6226 - val_loss: 1.4472 - val_accuracy: 0.6353\n",
            "Epoch 43/50\n",
            "455/455 [==============================] - ETA: 0s - loss: 1.4737 - accuracy: 0.6270\n",
            "Epoch 43: val_accuracy did not improve from 0.63684\n",
            "455/455 [==============================] - 19s 41ms/step - loss: 1.4737 - accuracy: 0.6270 - val_loss: 1.4503 - val_accuracy: 0.6310\n",
            "Epoch 44/50\n",
            "454/455 [============================>.] - ETA: 0s - loss: 1.4781 - accuracy: 0.6264\n",
            "Epoch 44: val_accuracy did not improve from 0.63684\n",
            "455/455 [==============================] - 19s 41ms/step - loss: 1.4781 - accuracy: 0.6263 - val_loss: 1.4548 - val_accuracy: 0.6291\n",
            "Epoch 45/50\n",
            "454/455 [============================>.] - ETA: 0s - loss: 1.4687 - accuracy: 0.6242\n",
            "Epoch 45: val_accuracy did not improve from 0.63684\n",
            "455/455 [==============================] - 19s 41ms/step - loss: 1.4696 - accuracy: 0.6240 - val_loss: 1.4614 - val_accuracy: 0.6285\n",
            "Epoch 46/50\n",
            "454/455 [============================>.] - ETA: 0s - loss: 1.4674 - accuracy: 0.6258\n",
            "Epoch 46: val_accuracy did not improve from 0.63684\n",
            "455/455 [==============================] - 19s 41ms/step - loss: 1.4669 - accuracy: 0.6260 - val_loss: 1.4414 - val_accuracy: 0.6337\n",
            "Epoch 47/50\n",
            "454/455 [============================>.] - ETA: 0s - loss: 1.4734 - accuracy: 0.6265\n",
            "Epoch 47: val_accuracy did not improve from 0.63684\n",
            "455/455 [==============================] - 19s 42ms/step - loss: 1.4735 - accuracy: 0.6267 - val_loss: 1.4424 - val_accuracy: 0.6353\n",
            "Epoch 48/50\n",
            "455/455 [==============================] - ETA: 0s - loss: 1.4686 - accuracy: 0.6255\n",
            "Epoch 48: val_accuracy did not improve from 0.63684\n",
            "455/455 [==============================] - 19s 41ms/step - loss: 1.4686 - accuracy: 0.6255 - val_loss: 1.4749 - val_accuracy: 0.6331\n",
            "Epoch 49/50\n",
            "455/455 [==============================] - ETA: 0s - loss: 1.4603 - accuracy: 0.6313\n",
            "Epoch 49: val_accuracy did not improve from 0.63684\n",
            "455/455 [==============================] - 19s 41ms/step - loss: 1.4603 - accuracy: 0.6313 - val_loss: 1.4344 - val_accuracy: 0.6347\n",
            "Epoch 50/50\n",
            "455/455 [==============================] - ETA: 0s - loss: 1.4523 - accuracy: 0.6345\n",
            "Epoch 50: val_accuracy did not improve from 0.63684\n",
            "455/455 [==============================] - 19s 41ms/step - loss: 1.4523 - accuracy: 0.6345 - val_loss: 1.4445 - val_accuracy: 0.6365\n"
          ]
        }
      ]
    },
    {
      "cell_type": "code",
      "source": [
        "loss = model.evaluate(X_test,y_test) \n",
        "print(\"Test Acc: \" + str(loss[1]))\n"
      ],
      "metadata": {
        "id": "COKeNdPZu78G",
        "colab": {
          "base_uri": "https://localhost:8080/"
        },
        "outputId": "611498fe-e8c2-4795-fa6b-7a56cbe0dbc8"
      },
      "execution_count": null,
      "outputs": [
        {
          "output_type": "stream",
          "name": "stdout",
          "text": [
            "113/113 [==============================] - 1s 8ms/step - loss: 1.4268 - accuracy: 0.6489\n",
            "Test Acc: 0.6489272713661194\n"
          ]
        }
      ]
    },
    {
      "cell_type": "code",
      "source": [
        "preds = model.predict(X_test)\n",
        "y_pred = np.argmax(preds , axis = 1 )"
      ],
      "metadata": {
        "id": "0L8AN_Cuu84A",
        "colab": {
          "base_uri": "https://localhost:8080/"
        },
        "outputId": "662d2c95-c171-4e8c-94f2-02947f46163a"
      },
      "execution_count": null,
      "outputs": [
        {
          "output_type": "stream",
          "name": "stdout",
          "text": [
            "113/113 [==============================] - 1s 6ms/step\n"
          ]
        }
      ]
    },
    {
      "cell_type": "code",
      "source": [
        "#confusion matrix\n",
        "CLASS_LABELS  = ['Anger', 'Disgust', 'Fear', 'Happy', 'Neutral', 'Sadness', \"Surprise\"]\n",
        "\n",
        "cm_data = confusion_matrix(np.argmax(y_test, axis = 1 ), y_pred)\n",
        "cm = pd.DataFrame(cm_data, columns=CLASS_LABELS, index = CLASS_LABELS)\n",
        "cm.index.name = 'Actual'\n",
        "cm.columns.name = 'Predicted'\n",
        "plt.figure(figsize = (20,10))\n",
        "plt.title('Confusion Matrix', fontsize = 20)\n",
        "sns.set(font_scale=1.2)\n",
        "ax = sns.heatmap(cm, cbar=False, cmap=\"Blues\", annot=True, annot_kws={\"size\": 16}, fmt='g')"
      ],
      "metadata": {
        "id": "Pk2DpbsRvBYE",
        "colab": {
          "base_uri": "https://localhost:8080/",
          "height": 606
        },
        "outputId": "0338a602-fc68-42a6-a38a-1f7c1400e25e"
      },
      "execution_count": null,
      "outputs": [
        {
          "output_type": "display_data",
          "data": {
            "text/plain": [
              "<Figure size 1440x720 with 1 Axes>"
            ],
            "image/png": "[encoded data removed]"
          },
          "metadata": {}
        }
      ]
    },
    {
      "cell_type": "code",
      "source": [
        "print(classification_report(np.argmax(y_test, axis = 1 ),y_pred,digits=3))"
      ],
      "metadata": {
        "id": "ltrJ1e-uvEYs",
        "colab": {
          "base_uri": "https://localhost:8080/"
        },
        "outputId": "5dc13804-5a7c-4d37-ff96-ae1c00a76b4e"
      },
      "execution_count": null,
      "outputs": [
        {
          "output_type": "stream",
          "name": "stdout",
          "text": [
            "              precision    recall  f1-score   support\n",
            "\n",
            "           0      0.579     0.540     0.559       476\n",
            "           1      0.538     0.636     0.583        44\n",
            "           2      0.567     0.322     0.411       485\n",
            "           3      0.875     0.860     0.868       930\n",
            "           4      0.586     0.438     0.501       578\n",
            "           5      0.572     0.845     0.682       399\n",
            "           6      0.564     0.736     0.638       677\n",
            "\n",
            "    accuracy                          0.649      3589\n",
            "   macro avg      0.612     0.625     0.606      3589\n",
            "weighted avg      0.651     0.649     0.639      3589\n",
            "\n"
          ]
        }
      ]
    },
    {
      "cell_type": "markdown",
      "source": [
        "The model trained with 50 epochs has better results than the model trained with 30 epochs."
      ],
      "metadata": {
        "id": "J4c4ur483oHy"
      }
    }
  ],
  "metadata": {
    "colab": {
      "provenance": [],
      "toc_visible": true,
      "include_colab_link": true
    },
    "kernelspec": {
      "display_name": "Python 3",
      "name": "python3"
    },
    "language_info": {
      "name": "python"
    },
    "accelerator": "GPU",
    "gpuClass": "standard"
  },
  "nbformat": 4,
  "nbformat_minor": 0
}